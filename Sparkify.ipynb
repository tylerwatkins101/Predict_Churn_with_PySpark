{
 "cells": [
  {
   "cell_type": "markdown",
   "metadata": {},
   "source": [
    "# Sparkify Project\n",
    "\n",
    "Analyze data and model churn for simulated music streaming company. 12GB dataset analyzed using Amazon EMR notebook and cluster, as well as locally on 120MB subset of data.\n",
    "\n",
    "May-13-2019\n",
    "\n",
    "Tyler Watkins"
   ]
  },
  {
   "cell_type": "code",
   "execution_count": 157,
   "metadata": {},
   "outputs": [],
   "source": [
    "# import libraries\n",
    "from pyspark.sql import SparkSession\n",
    "from pyspark.sql import SQLContext\n",
    "from pyspark.sql.functions import avg, col, concat, desc, asc, explode, lit, min, max, split, udf\n",
    "from pyspark.sql.functions import sum as Fsum\n",
    "from pyspark.sql.types import IntegerType, StringType\n",
    "\n",
    "from pyspark.ml import Pipeline\n",
    "from pyspark.ml.classification import LogisticRegression, RandomForestClassifier, GBTClassifier\n",
    "from pyspark.ml.evaluation import BinaryClassificationEvaluator\n",
    "from pyspark.ml.feature import VectorAssembler, CountVectorizer, IDF, Normalizer, PCA, RegexTokenizer, StandardScaler, StopWordsRemover, StringIndexer\n",
    "from pyspark.ml.tuning import CrossValidator, ParamGridBuilder\n",
    "\n",
    "import re\n",
    "\n",
    "import datetime\n",
    "\n",
    "import numpy as np\n",
    "import pandas as pd\n",
    "%matplotlib inline\n",
    "import matplotlib.pyplot as plt"
   ]
  },
  {
   "cell_type": "code",
   "execution_count": 2,
   "metadata": {},
   "outputs": [],
   "source": [
    "import warnings\n",
    "warnings.filterwarnings('ignore')\n",
    "\n",
    "pd.set_option('display.float_format', lambda x: '{:.3f}'.format(x)) #Limiting floats output to 3 decimal points"
   ]
  },
  {
   "cell_type": "code",
   "execution_count": 3,
   "metadata": {},
   "outputs": [],
   "source": [
    "# Create spark session\n",
    "spark = SparkSession \\\n",
    "    .builder \\\n",
    "    .appName(\"Sparkify\") \\\n",
    "    .getOrCreate()"
   ]
  },
  {
   "cell_type": "markdown",
   "metadata": {},
   "source": [
    "## Load and Clean Dataset"
   ]
  },
  {
   "cell_type": "code",
   "execution_count": 4,
   "metadata": {},
   "outputs": [],
   "source": [
    "event_data = \"mini_sparkify_event_data.json\"\n",
    "df = spark.read.json(event_data)"
   ]
  },
  {
   "cell_type": "code",
   "execution_count": 5,
   "metadata": {},
   "outputs": [
    {
     "data": {
      "text/plain": [
       "286500"
      ]
     },
     "execution_count": 5,
     "metadata": {},
     "output_type": "execute_result"
    }
   ],
   "source": [
    "df.count()"
   ]
  },
  {
   "cell_type": "code",
   "execution_count": 6,
   "metadata": {},
   "outputs": [
    {
     "data": {
      "text/plain": [
       "286500"
      ]
     },
     "execution_count": 6,
     "metadata": {},
     "output_type": "execute_result"
    }
   ],
   "source": [
    "df = df.dropna(how = \"any\", subset = [\"userId\", \"sessionId\"])\n",
    "df.count()"
   ]
  },
  {
   "cell_type": "code",
   "execution_count": 7,
   "metadata": {},
   "outputs": [
    {
     "data": {
      "text/plain": [
       "278154"
      ]
     },
     "execution_count": 7,
     "metadata": {},
     "output_type": "execute_result"
    }
   ],
   "source": [
    "df = df.filter(df[\"userId\"] != \"\")\n",
    "df.count()"
   ]
  },
  {
   "cell_type": "markdown",
   "metadata": {},
   "source": [
    "## Exploratory Data Analysis"
   ]
  },
  {
   "cell_type": "code",
   "execution_count": 8,
   "metadata": {},
   "outputs": [
    {
     "data": {
      "text/plain": [
       "DataFrame[artist: string, auth: string, firstName: string, gender: string, itemInSession: bigint, lastName: string, length: double, level: string, location: string, method: string, page: string, registration: bigint, sessionId: bigint, song: string, status: bigint, ts: bigint, userAgent: string, userId: string]"
      ]
     },
     "execution_count": 8,
     "metadata": {},
     "output_type": "execute_result"
    }
   ],
   "source": [
    "df.persist()"
   ]
  },
  {
   "cell_type": "code",
   "execution_count": 9,
   "metadata": {},
   "outputs": [],
   "source": [
    "get_hour = udf(lambda x: datetime.datetime.fromtimestamp(x / 1000.0). hour)\n",
    "df = df.withColumn(\"hour\", get_hour(df.ts))\n",
    "\n",
    "songs_in_hour = df.filter(df.page == \"NextSong\").groupby(df.hour).count().orderBy(df.hour.cast(\"float\"))\n",
    "songs_in_hour_pd = songs_in_hour.toPandas()\n",
    "songs_in_hour_pd.hour = pd.to_numeric(songs_in_hour_pd.hour)"
   ]
  },
  {
   "cell_type": "code",
   "execution_count": 10,
   "metadata": {},
   "outputs": [
    {
     "data": {
      "image/png": "[encoded data removed]",
      "text/plain": [
       "<Figure size 432x288 with 1 Axes>"
      ]
     },
     "metadata": {
      "needs_background": "light"
     },
     "output_type": "display_data"
    }
   ],
   "source": [
    "plt.scatter(songs_in_hour_pd[\"hour\"], songs_in_hour_pd[\"count\"])\n",
    "plt.xlim(-1, 24)\n",
    "plt.ylim(0, 1.2 * np.max(songs_in_hour_pd[\"count\"]))\n",
    "plt.title(\"Songs Played vs Time of Day\")\n",
    "plt.xlabel(\"Hour\")\n",
    "plt.ylabel(\"Songs played\");"
   ]
  },
  {
   "cell_type": "code",
   "execution_count": 11,
   "metadata": {},
   "outputs": [
    {
     "name": "stdout",
     "output_type": "stream",
     "text": [
      "+--------------------+------+\n",
      "|                page| count|\n",
      "+--------------------+------+\n",
      "|              Cancel|    52|\n",
      "|    Submit Downgrade|    63|\n",
      "|         Thumbs Down|  2546|\n",
      "|                Home| 10082|\n",
      "|           Downgrade|  2055|\n",
      "|         Roll Advert|  3933|\n",
      "|              Logout|  3226|\n",
      "|       Save Settings|   310|\n",
      "|Cancellation Conf...|    52|\n",
      "|               About|   495|\n",
      "|            Settings|  1514|\n",
      "|     Add to Playlist|  6526|\n",
      "|          Add Friend|  4277|\n",
      "|            NextSong|228108|\n",
      "|           Thumbs Up| 12551|\n",
      "|                Help|  1454|\n",
      "|             Upgrade|   499|\n",
      "|               Error|   252|\n",
      "|      Submit Upgrade|   159|\n",
      "+--------------------+------+\n",
      "\n"
     ]
    }
   ],
   "source": [
    "# Look at distribution of pageviews\n",
    "page_df = df.groupby(\"page\").count()\n",
    "page_df.show()"
   ]
  },
  {
   "cell_type": "code",
   "execution_count": 12,
   "metadata": {},
   "outputs": [],
   "source": [
    "# Get list of pages\n",
    "pages = [row['page'] for row in page_df.select(\"page\").collect()]"
   ]
  },
  {
   "cell_type": "markdown",
   "metadata": {},
   "source": [
    "## Define Churn\n",
    "\n",
    "`churn` is labelled using the `Cancellation Confirmation` events, which happen for both paid and free users. `Submit Downgrade` events are also labelled as `downgraded`."
   ]
  },
  {
   "cell_type": "code",
   "execution_count": 13,
   "metadata": {},
   "outputs": [],
   "source": [
    "flag_downgrade_event = udf(lambda x: 1 if x == \"Submit Downgrade\" else 0, IntegerType())\n",
    "df = df.withColumn(\"downgraded\", flag_downgrade_event(\"page\"))"
   ]
  },
  {
   "cell_type": "code",
   "execution_count": 14,
   "metadata": {},
   "outputs": [],
   "source": [
    "flag_cancellation_event = udf(lambda x: 1 if x == \"Cancellation Confirmation\" else 0, IntegerType())\n",
    "df = df.withColumn(\"churn\", flag_cancellation_event(\"page\"))"
   ]
  },
  {
   "cell_type": "code",
   "execution_count": 15,
   "metadata": {},
   "outputs": [
    {
     "data": {
      "text/plain": [
       "Row(artist='Martha Tilston', auth='Logged In', firstName='Colin', gender='M', itemInSession=50, lastName='Freeman', length=277.89016, level='paid', location='Bakersfield, CA', method='PUT', page='NextSong', registration=1538173362000, sessionId=29, song='Rockpools', status=200, ts=1538352117000, userAgent='Mozilla/5.0 (Windows NT 6.1; WOW64; rv:31.0) Gecko/20100101 Firefox/31.0', userId='30', hour='21', downgraded=0, churn=0)"
      ]
     },
     "execution_count": 15,
     "metadata": {},
     "output_type": "execute_result"
    }
   ],
   "source": [
    "df.head()"
   ]
  },
  {
   "cell_type": "code",
   "execution_count": 16,
   "metadata": {},
   "outputs": [
    {
     "data": {
      "text/plain": [
       "52"
      ]
     },
     "execution_count": 16,
     "metadata": {},
     "output_type": "execute_result"
    }
   ],
   "source": [
    "# 52 users churned\n",
    "df.filter(df.churn == 1) \\\n",
    "    .select('userId', 'churn') \\\n",
    "    .dropDuplicates() \\\n",
    "    .count()"
   ]
  },
  {
   "cell_type": "code",
   "execution_count": 52,
   "metadata": {},
   "outputs": [
    {
     "data": {
      "text/plain": [
       "225"
      ]
     },
     "execution_count": 52,
     "metadata": {},
     "output_type": "execute_result"
    }
   ],
   "source": [
    "# 225 total users\n",
    "df.filter(df.churn == 0) \\\n",
    "    .select('userId', 'churn') \\\n",
    "    .dropDuplicates() \\\n",
    "    .count()"
   ]
  },
  {
   "cell_type": "code",
   "execution_count": 18,
   "metadata": {},
   "outputs": [],
   "source": [
    "# Get lists of users\n",
    "df_churned = df.filter(df.churn == 1).select('userId', 'churn').dropDuplicates()\n",
    "churn_users = [row['userId'] for row in df_churned.select(\"userId\").collect()]\n",
    "\n",
    "df_allusers = df.filter(df.churn == 0).select('userId', 'churn').dropDuplicates()\n",
    "all_users = [row['userId'] for row in df_allusers.select(\"userId\").collect()]\n",
    "\n",
    "stay_users = list(set(all_users)-set(churn_users))"
   ]
  },
  {
   "cell_type": "markdown",
   "metadata": {},
   "source": [
    "## Pandas Data Exploration\n",
    "Find features that relate to churn."
   ]
  },
  {
   "cell_type": "code",
   "execution_count": 19,
   "metadata": {},
   "outputs": [],
   "source": [
    "# Do visualizations using pandas\n",
    "data = df.toPandas()"
   ]
  },
  {
   "cell_type": "code",
   "execution_count": 134,
   "metadata": {},
   "outputs": [],
   "source": [
    "data2 = data[[\"userId\",\"page\"]]\n",
    "\n",
    "from sklearn.preprocessing import OneHotEncoder\n",
    "onehot_encoder = OneHotEncoder(sparse=False)\n",
    "feature = onehot_encoder.fit_transform(data2[['page']])\n",
    "\n",
    "pages_list = list(data2.page.unique())\n",
    "#data2.page.value_counts()\n",
    "page_list_correct = ['About', 'Add Friend', 'Add to Playlist', 'Cancel', 'Cancellation Confirmation',\n",
    " 'Downgrade',\n",
    " 'Error',\n",
    " 'Help',\n",
    " 'Home',\n",
    " 'Logout',\n",
    " 'NextSong',\n",
    " 'Roll Advert',\n",
    " 'Save Settings',\n",
    " 'Settings',\n",
    " 'Submit Downgrade',\n",
    " 'Submit Upgrade',\n",
    " 'Thumbs Down',\n",
    " 'Thumbs Up',\n",
    " 'Upgrade']\n",
    "\n",
    "pages = pd.DataFrame(feature)\n",
    "pages['userId'] = data2['userId']\n",
    "pages_agg = pages.groupby('userId').mean()\n",
    "#pages.groupby('userId').sum()\n",
    "pages_agg.columns = page_list_correct"
   ]
  },
  {
   "cell_type": "code",
   "execution_count": 135,
   "metadata": {},
   "outputs": [],
   "source": [
    "pages_agg.rename(columns={'Cancellation Confirmation':\"Churn\"}, inplace=True)\n",
    "pages_agg = pages_agg.drop(['Cancel'], axis=1)\n",
    "for i in range(len(pages_agg)):\n",
    "    if pages_agg.iloc[i].Churn > 0.0:\n",
    "        pages_agg.iloc[i].Churn = 1.0\n",
    "\n",
    "data3 = data[[\"userId\",\"page\",\"level\",\"gender\"]]\n",
    "users_levels = data3.groupby(\"userId\").describe()['level'][['unique','top']]\n",
    "df_new = pd.merge(pages_agg, users_levels, on='userId')\n",
    "df_new.unique = df_new.unique.astype(float)\n",
    "df_new['gender'] = data3.groupby(\"userId\").describe()['gender']['top'].values"
   ]
  },
  {
   "cell_type": "code",
   "execution_count": 136,
   "metadata": {},
   "outputs": [
    {
     "data": {
      "image/png": "[encoded data removed]",
      "text/plain": [
       "<Figure size 432x288 with 1 Axes>"
      ]
     },
     "metadata": {
      "needs_background": "light"
     },
     "output_type": "display_data"
    }
   ],
   "source": [
    "plt.title(\"Paid vs Free Accounts - Churned\")\n",
    "df_new[df_new.Churn == 1.0].top.value_counts().plot(kind='bar');"
   ]
  },
  {
   "cell_type": "code",
   "execution_count": 137,
   "metadata": {},
   "outputs": [
    {
     "data": {
      "image/png": "[encoded data removed]",
      "text/plain": [
       "<Figure size 432x288 with 1 Axes>"
      ]
     },
     "metadata": {
      "needs_background": "light"
     },
     "output_type": "display_data"
    }
   ],
   "source": [
    "plt.title(\"Paid vs Free Accounts - No Churn\")\n",
    "df_new[df_new.Churn == 0.0].top.value_counts().plot(kind='bar');"
   ]
  },
  {
   "cell_type": "code",
   "execution_count": 138,
   "metadata": {},
   "outputs": [
    {
     "data": {
      "image/png": "[encoded data removed]",
      "text/plain": [
       "<Figure size 432x288 with 1 Axes>"
      ]
     },
     "metadata": {
      "needs_background": "light"
     },
     "output_type": "display_data"
    }
   ],
   "source": [
    "df_new[df_new.Churn == 0.0].gender.value_counts().plot(kind='bar');"
   ]
  },
  {
   "cell_type": "code",
   "execution_count": 139,
   "metadata": {},
   "outputs": [
    {
     "data": {
      "image/png": "[encoded data removed]",
      "text/plain": [
       "<Figure size 432x288 with 1 Axes>"
      ]
     },
     "metadata": {
      "needs_background": "light"
     },
     "output_type": "display_data"
    }
   ],
   "source": [
    "df_new[df_new.Churn == 1.0].gender.value_counts().plot(kind='bar');"
   ]
  },
  {
   "cell_type": "code",
   "execution_count": 140,
   "metadata": {},
   "outputs": [
    {
     "data": {
      "text/html": [
       "<div>\n",
       "<style scoped>\n",
       "    .dataframe tbody tr th:only-of-type {\n",
       "        vertical-align: middle;\n",
       "    }\n",
       "\n",
       "    .dataframe tbody tr th {\n",
       "        vertical-align: top;\n",
       "    }\n",
       "\n",
       "    .dataframe thead th {\n",
       "        text-align: right;\n",
       "    }\n",
       "</style>\n",
       "<table border=\"1\" class=\"dataframe\">\n",
       "  <thead>\n",
       "    <tr style=\"text-align: right;\">\n",
       "      <th></th>\n",
       "      <th>About</th>\n",
       "      <th>Add Friend</th>\n",
       "      <th>Add to Playlist</th>\n",
       "      <th>Churn</th>\n",
       "      <th>Downgrade</th>\n",
       "      <th>Error</th>\n",
       "      <th>Help</th>\n",
       "      <th>Home</th>\n",
       "      <th>Logout</th>\n",
       "      <th>NextSong</th>\n",
       "      <th>...</th>\n",
       "      <th>Save Settings</th>\n",
       "      <th>Settings</th>\n",
       "      <th>Submit Downgrade</th>\n",
       "      <th>Submit Upgrade</th>\n",
       "      <th>Thumbs Down</th>\n",
       "      <th>Thumbs Up</th>\n",
       "      <th>Upgrade</th>\n",
       "      <th>unique</th>\n",
       "      <th>top</th>\n",
       "      <th>gender</th>\n",
       "    </tr>\n",
       "    <tr>\n",
       "      <th>userId</th>\n",
       "      <th></th>\n",
       "      <th></th>\n",
       "      <th></th>\n",
       "      <th></th>\n",
       "      <th></th>\n",
       "      <th></th>\n",
       "      <th></th>\n",
       "      <th></th>\n",
       "      <th></th>\n",
       "      <th></th>\n",
       "      <th></th>\n",
       "      <th></th>\n",
       "      <th></th>\n",
       "      <th></th>\n",
       "      <th></th>\n",
       "      <th></th>\n",
       "      <th></th>\n",
       "      <th></th>\n",
       "      <th></th>\n",
       "      <th></th>\n",
       "      <th></th>\n",
       "    </tr>\n",
       "  </thead>\n",
       "  <tbody>\n",
       "    <tr>\n",
       "      <th>10</th>\n",
       "      <td>0.003</td>\n",
       "      <td>0.015</td>\n",
       "      <td>0.011</td>\n",
       "      <td>0.000</td>\n",
       "      <td>0.009</td>\n",
       "      <td>0.000</td>\n",
       "      <td>0.001</td>\n",
       "      <td>0.038</td>\n",
       "      <td>0.014</td>\n",
       "      <td>0.847</td>\n",
       "      <td>...</td>\n",
       "      <td>0.001</td>\n",
       "      <td>0.009</td>\n",
       "      <td>0.000</td>\n",
       "      <td>0.000</td>\n",
       "      <td>0.005</td>\n",
       "      <td>0.047</td>\n",
       "      <td>0.000</td>\n",
       "      <td>1.000</td>\n",
       "      <td>paid</td>\n",
       "      <td>M</td>\n",
       "    </tr>\n",
       "    <tr>\n",
       "      <th>100</th>\n",
       "      <td>0.004</td>\n",
       "      <td>0.015</td>\n",
       "      <td>0.019</td>\n",
       "      <td>0.000</td>\n",
       "      <td>0.009</td>\n",
       "      <td>0.001</td>\n",
       "      <td>0.006</td>\n",
       "      <td>0.033</td>\n",
       "      <td>0.011</td>\n",
       "      <td>0.834</td>\n",
       "      <td>...</td>\n",
       "      <td>0.002</td>\n",
       "      <td>0.003</td>\n",
       "      <td>0.000</td>\n",
       "      <td>0.000</td>\n",
       "      <td>0.008</td>\n",
       "      <td>0.046</td>\n",
       "      <td>0.000</td>\n",
       "      <td>2.000</td>\n",
       "      <td>paid</td>\n",
       "      <td>M</td>\n",
       "    </tr>\n",
       "    <tr>\n",
       "      <th>100001</th>\n",
       "      <td>0.000</td>\n",
       "      <td>0.011</td>\n",
       "      <td>0.016</td>\n",
       "      <td>1.000</td>\n",
       "      <td>0.000</td>\n",
       "      <td>0.005</td>\n",
       "      <td>0.005</td>\n",
       "      <td>0.059</td>\n",
       "      <td>0.037</td>\n",
       "      <td>0.711</td>\n",
       "      <td>...</td>\n",
       "      <td>0.000</td>\n",
       "      <td>0.005</td>\n",
       "      <td>0.000</td>\n",
       "      <td>0.000</td>\n",
       "      <td>0.011</td>\n",
       "      <td>0.043</td>\n",
       "      <td>0.011</td>\n",
       "      <td>1.000</td>\n",
       "      <td>free</td>\n",
       "      <td>F</td>\n",
       "    </tr>\n",
       "    <tr>\n",
       "      <th>100002</th>\n",
       "      <td>0.000</td>\n",
       "      <td>0.005</td>\n",
       "      <td>0.023</td>\n",
       "      <td>0.000</td>\n",
       "      <td>0.009</td>\n",
       "      <td>0.000</td>\n",
       "      <td>0.000</td>\n",
       "      <td>0.028</td>\n",
       "      <td>0.005</td>\n",
       "      <td>0.894</td>\n",
       "      <td>...</td>\n",
       "      <td>0.000</td>\n",
       "      <td>0.000</td>\n",
       "      <td>0.000</td>\n",
       "      <td>0.000</td>\n",
       "      <td>0.000</td>\n",
       "      <td>0.023</td>\n",
       "      <td>0.000</td>\n",
       "      <td>1.000</td>\n",
       "      <td>paid</td>\n",
       "      <td>F</td>\n",
       "    </tr>\n",
       "    <tr>\n",
       "      <th>100003</th>\n",
       "      <td>0.000</td>\n",
       "      <td>0.000</td>\n",
       "      <td>0.026</td>\n",
       "      <td>1.000</td>\n",
       "      <td>0.000</td>\n",
       "      <td>0.000</td>\n",
       "      <td>0.013</td>\n",
       "      <td>0.090</td>\n",
       "      <td>0.038</td>\n",
       "      <td>0.654</td>\n",
       "      <td>...</td>\n",
       "      <td>0.000</td>\n",
       "      <td>0.000</td>\n",
       "      <td>0.000</td>\n",
       "      <td>0.000</td>\n",
       "      <td>0.000</td>\n",
       "      <td>0.038</td>\n",
       "      <td>0.000</td>\n",
       "      <td>1.000</td>\n",
       "      <td>free</td>\n",
       "      <td>F</td>\n",
       "    </tr>\n",
       "  </tbody>\n",
       "</table>\n",
       "<p>5 rows × 21 columns</p>\n",
       "</div>"
      ],
      "text/plain": [
       "        About  Add Friend  Add to Playlist  Churn  Downgrade  Error  Help  \\\n",
       "userId                                                                      \n",
       "10      0.003       0.015            0.011  0.000      0.009  0.000 0.001   \n",
       "100     0.004       0.015            0.019  0.000      0.009  0.001 0.006   \n",
       "100001  0.000       0.011            0.016  1.000      0.000  0.005 0.005   \n",
       "100002  0.000       0.005            0.023  0.000      0.009  0.000 0.000   \n",
       "100003  0.000       0.000            0.026  1.000      0.000  0.000 0.013   \n",
       "\n",
       "        Home  Logout  NextSong  ...  Save Settings  Settings  \\\n",
       "userId                          ...                            \n",
       "10     0.038   0.014     0.847  ...          0.001     0.009   \n",
       "100    0.033   0.011     0.834  ...          0.002     0.003   \n",
       "100001 0.059   0.037     0.711  ...          0.000     0.005   \n",
       "100002 0.028   0.005     0.894  ...          0.000     0.000   \n",
       "100003 0.090   0.038     0.654  ...          0.000     0.000   \n",
       "\n",
       "        Submit Downgrade  Submit Upgrade  Thumbs Down  Thumbs Up  Upgrade  \\\n",
       "userId                                                                      \n",
       "10                 0.000           0.000        0.005      0.047    0.000   \n",
       "100                0.000           0.000        0.008      0.046    0.000   \n",
       "100001             0.000           0.000        0.011      0.043    0.011   \n",
       "100002             0.000           0.000        0.000      0.023    0.000   \n",
       "100003             0.000           0.000        0.000      0.038    0.000   \n",
       "\n",
       "        unique   top gender  \n",
       "userId                       \n",
       "10       1.000  paid      M  \n",
       "100      2.000  paid      M  \n",
       "100001   1.000  free      F  \n",
       "100002   1.000  paid      F  \n",
       "100003   1.000  free      F  \n",
       "\n",
       "[5 rows x 21 columns]"
      ]
     },
     "execution_count": 140,
     "metadata": {},
     "output_type": "execute_result"
    }
   ],
   "source": [
    "df_new.head()"
   ]
  },
  {
   "cell_type": "code",
   "execution_count": 141,
   "metadata": {},
   "outputs": [],
   "source": [
    "df_new['free'] = pd.DataFrame(onehot_encoder.fit_transform(df_new[['top']]))[0].values\n",
    "df_new['paid'] = pd.DataFrame(onehot_encoder.fit_transform(df_new[['top']]))[1].values\n",
    "df_new['female'] = pd.DataFrame(onehot_encoder.fit_transform(df_new[['gender']]))[0].values\n",
    "df_new['male'] = pd.DataFrame(onehot_encoder.fit_transform(df_new[['gender']]))[1].values"
   ]
  },
  {
   "cell_type": "code",
   "execution_count": 142,
   "metadata": {},
   "outputs": [],
   "source": [
    "churn_cor = df_new.corr()[['Churn']]\n",
    "churn_cor = churn_cor[churn_cor.Churn<0.9]"
   ]
  },
  {
   "cell_type": "code",
   "execution_count": 143,
   "metadata": {
    "scrolled": false
   },
   "outputs": [
    {
     "data": {
      "image/png": "[encoded data removed]",
      "text/plain": [
       "<Figure size 432x288 with 1 Axes>"
      ]
     },
     "metadata": {
      "needs_background": "light"
     },
     "output_type": "display_data"
    }
   ],
   "source": [
    "churn_cor.sort_values(by='Churn').plot(kind='bar')\n",
    "plt.title('Feature Correlation to Churn')\n",
    "plt.ylim([-0.3, 0.3]);"
   ]
  },
  {
   "cell_type": "markdown",
   "metadata": {},
   "source": [
    "From above we can see that our best features correlated to Churn are: \n",
    "\n",
    "- Avg pageviews for Thumbs Down (0.27) \n",
    "- Avg pageviews for NextSong (-0.25)\n",
    "- Avg pageviews for Roll Advert (0.18) \n",
    "\n",
    "This is not surprising. The higher percentage of time the user spends seeing advertisements or disliking music the more likely they are to cancel their service. The higher percentage of time the user spends listening to music the more likely they are to stay."
   ]
  },
  {
   "cell_type": "code",
   "execution_count": 144,
   "metadata": {},
   "outputs": [],
   "source": [
    "# Prepare data for modelling\n",
    "df_new = df_new.drop(['top'], axis=1)\n",
    "df_new = df_new.drop(['gender'], axis=1)\n",
    "df_new = df_new.drop(['female'], axis=1)\n",
    "df_new = df_new.drop(['free'], axis=1)"
   ]
  },
  {
   "cell_type": "markdown",
   "metadata": {},
   "source": [
    "## PySpark Feature Engineering\n",
    "Build out the features that are promising to train your model on."
   ]
  },
  {
   "cell_type": "code",
   "execution_count": 31,
   "metadata": {},
   "outputs": [],
   "source": [
    "df_less = df.select(['churn', 'userId', 'page', 'level', 'gender'])"
   ]
  },
  {
   "cell_type": "code",
   "execution_count": 32,
   "metadata": {},
   "outputs": [
    {
     "name": "stdout",
     "output_type": "stream",
     "text": [
      "+-----+------+---------------+-----+------+\n",
      "|churn|userId|           page|level|gender|\n",
      "+-----+------+---------------+-----+------+\n",
      "|    0|    30|       NextSong| paid|     M|\n",
      "|    0|     9|       NextSong| free|     M|\n",
      "|    0|    30|       NextSong| paid|     M|\n",
      "|    0|     9|       NextSong| free|     M|\n",
      "|    0|    30|       NextSong| paid|     M|\n",
      "|    0|     9|       NextSong| free|     M|\n",
      "|    0|     9|       NextSong| free|     M|\n",
      "|    0|    30|       NextSong| paid|     M|\n",
      "|    0|    30|Add to Playlist| paid|     M|\n",
      "|    0|    30|       NextSong| paid|     M|\n",
      "|    0|     9|       NextSong| free|     M|\n",
      "|    0|     9|    Roll Advert| free|     M|\n",
      "|    0|    30|       NextSong| paid|     M|\n",
      "|    0|     9|       NextSong| free|     M|\n",
      "|    0|     9|      Thumbs Up| free|     M|\n",
      "|    0|    30|       NextSong| paid|     M|\n",
      "|    0|     9|       NextSong| free|     M|\n",
      "|    0|    74|       NextSong| free|     F|\n",
      "|    0|    30|       NextSong| paid|     M|\n",
      "|    0|     9|       NextSong| free|     M|\n",
      "+-----+------+---------------+-----+------+\n",
      "only showing top 20 rows\n",
      "\n"
     ]
    }
   ],
   "source": [
    "df_less.show()"
   ]
  },
  {
   "cell_type": "code",
   "execution_count": 72,
   "metadata": {},
   "outputs": [],
   "source": [
    "df_predict = df_less.groupby('userId').count()\n",
    "df_predict = df_predict.withColumnRenamed('count', 'pagecount')"
   ]
  },
  {
   "cell_type": "code",
   "execution_count": 73,
   "metadata": {},
   "outputs": [],
   "source": [
    "churned = udf(lambda x: 0, IntegerType())\n",
    "df_predict = df_predict.withColumn(\"churn\", churned(df_predict.userId))"
   ]
  },
  {
   "cell_type": "code",
   "execution_count": 74,
   "metadata": {},
   "outputs": [],
   "source": [
    "from pyspark.sql.functions import *\n",
    "\n",
    "df_predict = df_predict\\\n",
    ".withColumn('churn_new',when(df_predict.userId.isin(churn_users), df_predict.churn).otherwise(1))\\\n",
    ".drop(df.churn)\\\n",
    ".select(col('userId'), col('pagecount'), col('churn_new').alias('churn'))"
   ]
  },
  {
   "cell_type": "code",
   "execution_count": 75,
   "metadata": {},
   "outputs": [
    {
     "data": {
      "text/plain": [
       "173"
      ]
     },
     "execution_count": 75,
     "metadata": {},
     "output_type": "execute_result"
    }
   ],
   "source": [
    "df_predict.filter(df_predict.churn == 1).count()"
   ]
  },
  {
   "cell_type": "code",
   "execution_count": 200,
   "metadata": {},
   "outputs": [],
   "source": [
    "sqlContext = SQLContext(spark)\n",
    "spark_df = sqlContext.createDataFrame(df_new)"
   ]
  },
  {
   "cell_type": "code",
   "execution_count": 203,
   "metadata": {},
   "outputs": [],
   "source": [
    "spark_df = spark_df.withColumnRenamed('Churn','label')"
   ]
  },
  {
   "cell_type": "code",
   "execution_count": 204,
   "metadata": {},
   "outputs": [
    {
     "name": "stdout",
     "output_type": "stream",
     "text": [
      "+-----+--------------------+------------------+--------------------+--------------------+--------------------+\n",
      "|label|               About|          NextSong|      Submit Upgrade|         Thumbs Down|         Roll Advert|\n",
      "+-----+--------------------+------------------+--------------------+--------------------+--------------------+\n",
      "|  0.0|0.002515723270440...|0.8465408805031447|                 0.0|0.005031446540880503|0.001257861635220...|\n",
      "|  0.0| 0.00373366521468575|0.8344741754822651|3.111387678904791...|0.008400746733042938|0.007778469197261979|\n",
      "|  1.0|                 0.0|0.7112299465240641|                 0.0|  0.0106951871657754|  0.0748663101604278|\n",
      "|  0.0|                 0.0|0.8944954128440367|                 0.0|                 0.0|0.013761467889908258|\n",
      "|  1.0|                 0.0|0.6538461538461539|                 0.0|                 0.0| 0.11538461538461539|\n",
      "|  0.0|                 0.0|0.7566265060240964|0.002409638554216...|0.008835341365461847| 0.06907630522088354|\n",
      "|  1.0|                 0.0|0.7129629629629629|                 0.0|0.013888888888888888| 0.08333333333333333|\n",
      "|  1.0|                 0.0|0.5909090909090909|                 0.0|0.045454545454545456| 0.06818181818181818|\n",
      "|  1.0|                 0.0|0.8134615384615385|                 0.0|0.011538461538461539|0.009615384615384616|\n",
      "|  0.0|0.003191489361702...|0.8212765957446808|                 0.0|0.006382978723404255| 0.02127659574468085|\n",
      "|  1.0|0.001490312965722...|0.7719821162444114|0.001490312965722...|0.011922503725782414| 0.06259314456035768|\n",
      "|  0.0|0.002624671916010...|0.7217847769028871|                 0.0|0.013123359580052493| 0.13648293963254593|\n",
      "|  1.0|                 0.0|0.4782608695652174|                 0.0|0.043478260869565216| 0.08695652173913043|\n",
      "|  1.0|0.001666666666666...|0.7933333333333333|0.001666666666666...|               0.015| 0.06333333333333334|\n",
      "|  1.0|0.001436781609195...|            0.8125|7.183908045977011E-4|0.010775862068965518|0.028017241379310345|\n",
      "|  1.0|                 0.0|0.8290322580645161|                 0.0| 0.00967741935483871|0.006451612903225...|\n",
      "|  1.0|0.003809523809523...|0.7619047619047619|0.001904761904761...|0.007619047619047619| 0.06571428571428571|\n",
      "|  0.0|0.001567398119122257|0.8307210031347962|                 0.0|0.007836990595611285|0.025078369905956112|\n",
      "|  1.0|                 0.0|0.6933333333333334|                 0.0|0.013333333333333334| 0.18666666666666668|\n",
      "|  0.0|7.763975155279503E-4|0.7779503105590062|0.001552795031055...|0.006987577639751553|0.062111801242236024|\n",
      "+-----+--------------------+------------------+--------------------+--------------------+--------------------+\n",
      "only showing top 20 rows\n",
      "\n"
     ]
    }
   ],
   "source": [
    "spark_df.select('label','About','NextSong','Submit Upgrade','Thumbs Down','Roll Advert').show()"
   ]
  },
  {
   "cell_type": "code",
   "execution_count": 197,
   "metadata": {},
   "outputs": [],
   "source": []
  },
  {
   "cell_type": "markdown",
   "metadata": {},
   "source": [
    "## Modeling with PySpark\n",
    "\n",
    "Fit models using pyspark.ml.\n",
    "\n",
    "- Fit GBM and RF Models.\n",
    "- GBM with best performance.\n",
    "- Use F1 score as the metric to optimize."
   ]
  },
  {
   "cell_type": "code",
   "execution_count": 205,
   "metadata": {},
   "outputs": [],
   "source": [
    "from pyspark.ml.feature import VectorAssembler\n",
    "\n",
    "vecAssembler = VectorAssembler(inputCols=['About','Add Friend','Add to Playlist','Downgrade','Error','Help','Home','Logout',\n",
    " 'NextSong','Roll Advert','Save Settings','Settings','Submit Downgrade','Submit Upgrade','Thumbs Down','Thumbs Up','Upgrade',\n",
    " 'unique','paid','male'], outputCol=\"features\")\n",
    "\n",
    "final_df = vecAssembler.transform(spark_df)\n",
    "\n",
    "train, test = final_df.randomSplit([0.7, 0.3], seed = 7)"
   ]
  },
  {
   "cell_type": "code",
   "execution_count": null,
   "metadata": {},
   "outputs": [],
   "source": []
  },
  {
   "cell_type": "code",
   "execution_count": 187,
   "metadata": {},
   "outputs": [
    {
     "data": {
      "text/plain": [
       "0.7368421052631579"
      ]
     },
     "execution_count": 187,
     "metadata": {},
     "output_type": "execute_result"
    }
   ],
   "source": [
    "rf = RandomForestClassifier(featuresCol = 'features', labelCol = 'label')\n",
    "rfModel = rf.fit(train)\n",
    "rfpredictions = rfModel.transform(test)\n",
    "\n",
    "rfpreds = [row['prediction'] for row in rfpredictions.select(\"prediction\").collect()]\n",
    "rftest = [row['label'] for row in rfpredictions.select(\"label\").collect()]\n",
    "\n",
    "# accuracy\n",
    "np.mean(np.array(rfpreds) == np.array(rftest))"
   ]
  },
  {
   "cell_type": "code",
   "execution_count": 206,
   "metadata": {},
   "outputs": [],
   "source": [
    "gbm = GBTClassifier(featuresCol='features', labelCol='label', maxDepth=4, maxIter=25, stepSize=0.1, subsamplingRate=1.0)\n",
    "gbModel = gbm.fit(train)\n",
    "gbpredictions = gbModel.transform(test)"
   ]
  },
  {
   "cell_type": "code",
   "execution_count": 208,
   "metadata": {},
   "outputs": [
    {
     "data": {
      "text/plain": [
       "0.8157894736842105"
      ]
     },
     "execution_count": 208,
     "metadata": {},
     "output_type": "execute_result"
    }
   ],
   "source": [
    "preds = [row['prediction'] for row in gbpredictions.select(\"prediction\").collect()]\n",
    "test = [row['label'] for row in gbpredictions.select(\"label\").collect()]\n",
    "\n",
    "# accuracy\n",
    "np.mean(np.array(preds) == np.array(test))"
   ]
  },
  {
   "cell_type": "code",
   "execution_count": null,
   "metadata": {},
   "outputs": [],
   "source": [
    "# Parameters to tune\n",
    "#GBTClassifier(featuresCol='features', labelCol='Churn', maxDepth=5, maxIter=20, stepSize=0.1, subsamplingRate=1.0)"
   ]
  },
  {
   "cell_type": "code",
   "execution_count": 212,
   "metadata": {},
   "outputs": [],
   "source": [
    "gbm = GBTClassifier(featuresCol = 'features', labelCol = 'label')\n",
    "\n",
    "pipeline = Pipeline(stages=[gbm])\n",
    "\n",
    "paramGrid = ParamGridBuilder().addGrid(gbm.maxIter,[20,25]).addGrid(gbm.maxDepth,[4, 5]).build()\n",
    "\n",
    "crossval = CrossValidator(estimator=pipeline,\n",
    "                          estimatorParamMaps=paramGrid,\n",
    "                          evaluator=BinaryClassificationEvaluator(),\n",
    "                          numFolds=3)"
   ]
  },
  {
   "cell_type": "code",
   "execution_count": 213,
   "metadata": {},
   "outputs": [],
   "source": [
    "cvModel = crossval.fit(train)"
   ]
  },
  {
   "cell_type": "code",
   "execution_count": 215,
   "metadata": {},
   "outputs": [
    {
     "data": {
      "text/plain": [
       "[0.5650737087148238,\n",
       " 0.5576813430471966,\n",
       " 0.5662624251474425,\n",
       " 0.5614643196524729]"
      ]
     },
     "execution_count": 215,
     "metadata": {},
     "output_type": "execute_result"
    }
   ],
   "source": [
    "# Best metric maxIter = 25, maxDepth = 4\n",
    "cvModel.avgMetrics"
   ]
  },
  {
   "cell_type": "code",
   "execution_count": null,
   "metadata": {},
   "outputs": [],
   "source": []
  },
  {
   "cell_type": "code",
   "execution_count": null,
   "metadata": {},
   "outputs": [],
   "source": []
  },
  {
   "cell_type": "markdown",
   "metadata": {},
   "source": [
    "## Modelling with Scikit-Learn\n",
    "\n",
    "Fit model with scikit-learn. \n",
    "\n",
    "- Best models are GBM() and LDA()\n",
    "- Use GridSearchCV for find best parameters"
   ]
  },
  {
   "cell_type": "code",
   "execution_count": 64,
   "metadata": {},
   "outputs": [
    {
     "data": {
      "text/html": [
       "<div>\n",
       "<style scoped>\n",
       "    .dataframe tbody tr th:only-of-type {\n",
       "        vertical-align: middle;\n",
       "    }\n",
       "\n",
       "    .dataframe tbody tr th {\n",
       "        vertical-align: top;\n",
       "    }\n",
       "\n",
       "    .dataframe thead th {\n",
       "        text-align: right;\n",
       "    }\n",
       "</style>\n",
       "<table border=\"1\" class=\"dataframe\">\n",
       "  <thead>\n",
       "    <tr style=\"text-align: right;\">\n",
       "      <th></th>\n",
       "      <th>About</th>\n",
       "      <th>Add Friend</th>\n",
       "      <th>Add to Playlist</th>\n",
       "      <th>Churn</th>\n",
       "      <th>Downgrade</th>\n",
       "      <th>Error</th>\n",
       "      <th>Help</th>\n",
       "      <th>Home</th>\n",
       "      <th>Logout</th>\n",
       "      <th>NextSong</th>\n",
       "      <th>...</th>\n",
       "      <th>Save Settings</th>\n",
       "      <th>Settings</th>\n",
       "      <th>Submit Downgrade</th>\n",
       "      <th>Submit Upgrade</th>\n",
       "      <th>Thumbs Down</th>\n",
       "      <th>Thumbs Up</th>\n",
       "      <th>Upgrade</th>\n",
       "      <th>unique</th>\n",
       "      <th>paid</th>\n",
       "      <th>male</th>\n",
       "    </tr>\n",
       "    <tr>\n",
       "      <th>userId</th>\n",
       "      <th></th>\n",
       "      <th></th>\n",
       "      <th></th>\n",
       "      <th></th>\n",
       "      <th></th>\n",
       "      <th></th>\n",
       "      <th></th>\n",
       "      <th></th>\n",
       "      <th></th>\n",
       "      <th></th>\n",
       "      <th></th>\n",
       "      <th></th>\n",
       "      <th></th>\n",
       "      <th></th>\n",
       "      <th></th>\n",
       "      <th></th>\n",
       "      <th></th>\n",
       "      <th></th>\n",
       "      <th></th>\n",
       "      <th></th>\n",
       "      <th></th>\n",
       "    </tr>\n",
       "  </thead>\n",
       "  <tbody>\n",
       "    <tr>\n",
       "      <th>10</th>\n",
       "      <td>0.003</td>\n",
       "      <td>0.015</td>\n",
       "      <td>0.011</td>\n",
       "      <td>0.0</td>\n",
       "      <td>0.009</td>\n",
       "      <td>0.000</td>\n",
       "      <td>0.001</td>\n",
       "      <td>0.038</td>\n",
       "      <td>0.014</td>\n",
       "      <td>0.847</td>\n",
       "      <td>...</td>\n",
       "      <td>0.001</td>\n",
       "      <td>0.009</td>\n",
       "      <td>0.000</td>\n",
       "      <td>0.000</td>\n",
       "      <td>0.005</td>\n",
       "      <td>0.047</td>\n",
       "      <td>0.000</td>\n",
       "      <td>1.000</td>\n",
       "      <td>1.000</td>\n",
       "      <td>1.000</td>\n",
       "    </tr>\n",
       "    <tr>\n",
       "      <th>100</th>\n",
       "      <td>0.004</td>\n",
       "      <td>0.015</td>\n",
       "      <td>0.019</td>\n",
       "      <td>0.0</td>\n",
       "      <td>0.009</td>\n",
       "      <td>0.001</td>\n",
       "      <td>0.006</td>\n",
       "      <td>0.033</td>\n",
       "      <td>0.011</td>\n",
       "      <td>0.834</td>\n",
       "      <td>...</td>\n",
       "      <td>0.002</td>\n",
       "      <td>0.003</td>\n",
       "      <td>0.000</td>\n",
       "      <td>0.000</td>\n",
       "      <td>0.008</td>\n",
       "      <td>0.046</td>\n",
       "      <td>0.000</td>\n",
       "      <td>2.000</td>\n",
       "      <td>1.000</td>\n",
       "      <td>1.000</td>\n",
       "    </tr>\n",
       "    <tr>\n",
       "      <th>100001</th>\n",
       "      <td>0.000</td>\n",
       "      <td>0.011</td>\n",
       "      <td>0.016</td>\n",
       "      <td>1.0</td>\n",
       "      <td>0.000</td>\n",
       "      <td>0.005</td>\n",
       "      <td>0.005</td>\n",
       "      <td>0.059</td>\n",
       "      <td>0.037</td>\n",
       "      <td>0.711</td>\n",
       "      <td>...</td>\n",
       "      <td>0.000</td>\n",
       "      <td>0.005</td>\n",
       "      <td>0.000</td>\n",
       "      <td>0.000</td>\n",
       "      <td>0.011</td>\n",
       "      <td>0.043</td>\n",
       "      <td>0.011</td>\n",
       "      <td>1.000</td>\n",
       "      <td>0.000</td>\n",
       "      <td>0.000</td>\n",
       "    </tr>\n",
       "    <tr>\n",
       "      <th>100002</th>\n",
       "      <td>0.000</td>\n",
       "      <td>0.005</td>\n",
       "      <td>0.023</td>\n",
       "      <td>0.0</td>\n",
       "      <td>0.009</td>\n",
       "      <td>0.000</td>\n",
       "      <td>0.000</td>\n",
       "      <td>0.028</td>\n",
       "      <td>0.005</td>\n",
       "      <td>0.894</td>\n",
       "      <td>...</td>\n",
       "      <td>0.000</td>\n",
       "      <td>0.000</td>\n",
       "      <td>0.000</td>\n",
       "      <td>0.000</td>\n",
       "      <td>0.000</td>\n",
       "      <td>0.023</td>\n",
       "      <td>0.000</td>\n",
       "      <td>1.000</td>\n",
       "      <td>1.000</td>\n",
       "      <td>0.000</td>\n",
       "    </tr>\n",
       "    <tr>\n",
       "      <th>100003</th>\n",
       "      <td>0.000</td>\n",
       "      <td>0.000</td>\n",
       "      <td>0.026</td>\n",
       "      <td>1.0</td>\n",
       "      <td>0.000</td>\n",
       "      <td>0.000</td>\n",
       "      <td>0.013</td>\n",
       "      <td>0.090</td>\n",
       "      <td>0.038</td>\n",
       "      <td>0.654</td>\n",
       "      <td>...</td>\n",
       "      <td>0.000</td>\n",
       "      <td>0.000</td>\n",
       "      <td>0.000</td>\n",
       "      <td>0.000</td>\n",
       "      <td>0.000</td>\n",
       "      <td>0.038</td>\n",
       "      <td>0.000</td>\n",
       "      <td>1.000</td>\n",
       "      <td>0.000</td>\n",
       "      <td>0.000</td>\n",
       "    </tr>\n",
       "  </tbody>\n",
       "</table>\n",
       "<p>5 rows × 21 columns</p>\n",
       "</div>"
      ],
      "text/plain": [
       "        About  Add Friend  Add to Playlist Churn  Downgrade  Error  Help  \\\n",
       "userId                                                                     \n",
       "10      0.003       0.015            0.011   0.0      0.009  0.000 0.001   \n",
       "100     0.004       0.015            0.019   0.0      0.009  0.001 0.006   \n",
       "100001  0.000       0.011            0.016   1.0      0.000  0.005 0.005   \n",
       "100002  0.000       0.005            0.023   0.0      0.009  0.000 0.000   \n",
       "100003  0.000       0.000            0.026   1.0      0.000  0.000 0.013   \n",
       "\n",
       "        Home  Logout  NextSong  ...  Save Settings  Settings  \\\n",
       "userId                          ...                            \n",
       "10     0.038   0.014     0.847  ...          0.001     0.009   \n",
       "100    0.033   0.011     0.834  ...          0.002     0.003   \n",
       "100001 0.059   0.037     0.711  ...          0.000     0.005   \n",
       "100002 0.028   0.005     0.894  ...          0.000     0.000   \n",
       "100003 0.090   0.038     0.654  ...          0.000     0.000   \n",
       "\n",
       "        Submit Downgrade  Submit Upgrade  Thumbs Down  Thumbs Up  Upgrade  \\\n",
       "userId                                                                      \n",
       "10                 0.000           0.000        0.005      0.047    0.000   \n",
       "100                0.000           0.000        0.008      0.046    0.000   \n",
       "100001             0.000           0.000        0.011      0.043    0.011   \n",
       "100002             0.000           0.000        0.000      0.023    0.000   \n",
       "100003             0.000           0.000        0.000      0.038    0.000   \n",
       "\n",
       "        unique  paid  male  \n",
       "userId                      \n",
       "10       1.000 1.000 1.000  \n",
       "100      2.000 1.000 1.000  \n",
       "100001   1.000 0.000 0.000  \n",
       "100002   1.000 1.000 0.000  \n",
       "100003   1.000 0.000 0.000  \n",
       "\n",
       "[5 rows x 21 columns]"
      ]
     },
     "execution_count": 64,
     "metadata": {},
     "output_type": "execute_result"
    }
   ],
   "source": [
    "df_new['Churn']=df_new['Churn'].astype('str')\n",
    "df_new.head()"
   ]
  },
  {
   "cell_type": "code",
   "execution_count": 66,
   "metadata": {},
   "outputs": [
    {
     "data": {
      "text/plain": [
       "0.7688888888888888"
      ]
     },
     "execution_count": 66,
     "metadata": {},
     "output_type": "execute_result"
    }
   ],
   "source": [
    "# Always guess 0\n",
    "(225-52)/225"
   ]
  },
  {
   "cell_type": "code",
   "execution_count": 67,
   "metadata": {},
   "outputs": [],
   "source": [
    "X = df_new.drop('Churn', axis=1)\n",
    "Y = df_new['Churn']"
   ]
  },
  {
   "cell_type": "code",
   "execution_count": 68,
   "metadata": {},
   "outputs": [
    {
     "name": "stdout",
     "output_type": "stream",
     "text": [
      "LR: 0.768889 (0.153059)\n",
      "LDA: 0.782222 (0.132143)\n",
      "KNN: 0.715556 (0.110129)\n",
      "CART: 0.622222 (0.102319)\n",
      "NB: 0.693333 (0.136554)\n",
      "SVM: 0.768889 (0.153059)\n",
      "AB: 0.746667 (0.095942)\n",
      "GBM: 0.768889 (0.112962)\n",
      "RF: 0.768889 (0.145789)\n",
      "ET: 0.742222 (0.133777)\n"
     ]
    },
    {
     "data": {
      "image/png": "[encoded data removed]",
      "text/plain": [
       "<Figure size 432x288 with 1 Axes>"
      ]
     },
     "metadata": {
      "needs_background": "light"
     },
     "output_type": "display_data"
    }
   ],
   "source": [
    "from sklearn.model_selection import KFold\n",
    "from sklearn.model_selection import cross_val_score\n",
    "from sklearn.ensemble import AdaBoostClassifier\n",
    "from sklearn.ensemble import GradientBoostingClassifier\n",
    "from sklearn.ensemble import RandomForestClassifier\n",
    "from sklearn.ensemble import ExtraTreesClassifier\n",
    "from sklearn.linear_model import LogisticRegression\n",
    "from sklearn.tree import DecisionTreeClassifier\n",
    "from sklearn.neighbors import KNeighborsClassifier\n",
    "from sklearn.discriminant_analysis import LinearDiscriminantAnalysis\n",
    "from sklearn.naive_bayes import GaussianNB\n",
    "from sklearn.svm import SVC\n",
    "\n",
    "models = []\n",
    "models.append(('LR', LogisticRegression()))\n",
    "models.append(('LDA', LinearDiscriminantAnalysis()))\n",
    "models.append(('KNN', KNeighborsClassifier()))\n",
    "models.append(('CART', DecisionTreeClassifier()))\n",
    "models.append(('NB', GaussianNB()))\n",
    "models.append(('SVM', SVC()))\n",
    "models.append(('AB', AdaBoostClassifier()))\n",
    "models.append(('GBM', GradientBoostingClassifier()))\n",
    "models.append(('RF', RandomForestClassifier()))\n",
    "models.append(('ET', ExtraTreesClassifier()))\n",
    "# evaluate each model in turn\n",
    "results = []\n",
    "names = []\n",
    "for name, model in models:\n",
    "    kfold = KFold(n_splits=5, random_state=7)\n",
    "    cv_results = cross_val_score(model, X, Y, cv=kfold)\n",
    "    results.append(cv_results)\n",
    "    names.append(name)\n",
    "    msg = \"%s: %f (%f)\" % (name, cv_results.mean(), cv_results.std())\n",
    "    print(msg)\n",
    "# boxplot algorithm comparison\n",
    "fig = plt.figure()\n",
    "fig.suptitle('Algorithm Comparison - Accuracy')\n",
    "ax = fig.add_subplot(111)\n",
    "plt.boxplot(results)\n",
    "ax.set_xticklabels(names)\n",
    "plt.show()"
   ]
  },
  {
   "cell_type": "code",
   "execution_count": 69,
   "metadata": {},
   "outputs": [
    {
     "name": "stdout",
     "output_type": "stream",
     "text": [
      "LR: 0.677499 (0.201441)\n",
      "LDA: 0.742274 (0.165080)\n",
      "KNN: 0.659070 (0.181344)\n",
      "CART: 0.620128 (0.128408)\n",
      "NB: 0.688714 (0.152459)\n",
      "SVM: 0.677499 (0.201441)\n",
      "AB: 0.743633 (0.101037)\n",
      "GBM: 0.751593 (0.121531)\n",
      "RF: 0.671590 (0.191893)\n",
      "ET: 0.693310 (0.209856)\n"
     ]
    },
    {
     "data": {
      "image/png": "[encoded data removed]",
      "text/plain": [
       "<Figure size 432x288 with 1 Axes>"
      ]
     },
     "metadata": {
      "needs_background": "light"
     },
     "output_type": "display_data"
    }
   ],
   "source": [
    "results = []\n",
    "names = []\n",
    "for name, model in models:\n",
    "    kfold = KFold(n_splits=5, random_state=7)\n",
    "    cv_results = cross_val_score(model, X, Y, cv=kfold, scoring='f1_weighted')\n",
    "    results.append(cv_results)\n",
    "    names.append(name)\n",
    "    msg = \"%s: %f (%f)\" % (name, cv_results.mean(), cv_results.std())\n",
    "    print(msg)\n",
    "# boxplot algorithm comparison\n",
    "fig = plt.figure()\n",
    "fig.suptitle('Algorithm Comparison - F1-Weighted')\n",
    "ax = fig.add_subplot(111)\n",
    "plt.boxplot(results)\n",
    "ax.set_xticklabels(names)\n",
    "plt.show()"
   ]
  },
  {
   "cell_type": "code",
   "execution_count": 70,
   "metadata": {},
   "outputs": [
    {
     "name": "stdout",
     "output_type": "stream",
     "text": [
      "              precision    recall  f1-score   support\n",
      "\n",
      "         0.0       0.85      0.73      0.79        56\n",
      "         1.0       0.25      0.42      0.31        12\n",
      "\n",
      "   micro avg       0.68      0.68      0.68        68\n",
      "   macro avg       0.55      0.57      0.55        68\n",
      "weighted avg       0.75      0.68      0.70        68\n",
      "\n"
     ]
    }
   ],
   "source": [
    "# Cross Validation Classification Report\n",
    "from sklearn.model_selection import train_test_split\n",
    "from sklearn.ensemble import GradientBoostingClassifier\n",
    "from sklearn.metrics import classification_report\n",
    "X = df_new.drop('Churn', axis=1)\n",
    "Y = df_new['Churn']\n",
    "test_size = 0.3\n",
    "seed = 7\n",
    "X_train, X_test, Y_train, Y_test = train_test_split(X, Y, test_size=test_size, random_state=seed)\n",
    "model = GradientBoostingClassifier(learning_rate = 0.1, max_depth = 3, n_estimators = 150, subsample = 1.0)\n",
    "model.fit(X_train, Y_train)\n",
    "predicted = model.predict(X_test)\n",
    "report = classification_report(Y_test, predicted)\n",
    "print(report)"
   ]
  },
  {
   "cell_type": "code",
   "execution_count": 71,
   "metadata": {},
   "outputs": [
    {
     "name": "stdout",
     "output_type": "stream",
     "text": [
      "Best: 0.750369 using {'max_depth': 4, 'n_estimators': 150, 'subsample': 1.0}\n",
      "0.732012 (0.144351) with: {'max_depth': 2, 'n_estimators': 50, 'subsample': 1.0}\n",
      "0.729569 (0.159928) with: {'max_depth': 2, 'n_estimators': 50, 'subsample': 0.8}\n",
      "0.708715 (0.164883) with: {'max_depth': 2, 'n_estimators': 50, 'subsample': 0.6}\n",
      "0.739113 (0.133304) with: {'max_depth': 2, 'n_estimators': 100, 'subsample': 1.0}\n",
      "0.711296 (0.141675) with: {'max_depth': 2, 'n_estimators': 100, 'subsample': 0.8}\n",
      "0.693681 (0.159675) with: {'max_depth': 2, 'n_estimators': 100, 'subsample': 0.6}\n",
      "0.739037 (0.131554) with: {'max_depth': 2, 'n_estimators': 150, 'subsample': 1.0}\n",
      "0.708678 (0.167248) with: {'max_depth': 2, 'n_estimators': 150, 'subsample': 0.8}\n",
      "0.720088 (0.124152) with: {'max_depth': 2, 'n_estimators': 150, 'subsample': 0.6}\n",
      "0.745908 (0.141195) with: {'max_depth': 3, 'n_estimators': 50, 'subsample': 1.0}\n",
      "0.721278 (0.142841) with: {'max_depth': 3, 'n_estimators': 50, 'subsample': 0.8}\n",
      "0.705019 (0.152522) with: {'max_depth': 3, 'n_estimators': 50, 'subsample': 0.6}\n",
      "0.742512 (0.129518) with: {'max_depth': 3, 'n_estimators': 100, 'subsample': 1.0}\n",
      "0.732439 (0.151139) with: {'max_depth': 3, 'n_estimators': 100, 'subsample': 0.8}\n",
      "0.690001 (0.182797) with: {'max_depth': 3, 'n_estimators': 100, 'subsample': 0.6}\n",
      "0.748089 (0.110135) with: {'max_depth': 3, 'n_estimators': 150, 'subsample': 1.0}\n",
      "0.733087 (0.139032) with: {'max_depth': 3, 'n_estimators': 150, 'subsample': 0.8}\n",
      "0.713801 (0.158638) with: {'max_depth': 3, 'n_estimators': 150, 'subsample': 0.6}\n",
      "0.741652 (0.152823) with: {'max_depth': 4, 'n_estimators': 50, 'subsample': 1.0}\n",
      "0.711152 (0.160312) with: {'max_depth': 4, 'n_estimators': 50, 'subsample': 0.8}\n",
      "0.715785 (0.158822) with: {'max_depth': 4, 'n_estimators': 50, 'subsample': 0.6}\n",
      "0.739359 (0.163361) with: {'max_depth': 4, 'n_estimators': 100, 'subsample': 1.0}\n",
      "0.714303 (0.169781) with: {'max_depth': 4, 'n_estimators': 100, 'subsample': 0.8}\n",
      "0.704486 (0.152041) with: {'max_depth': 4, 'n_estimators': 100, 'subsample': 0.6}\n",
      "0.750369 (0.144745) with: {'max_depth': 4, 'n_estimators': 150, 'subsample': 1.0}\n",
      "0.740326 (0.150814) with: {'max_depth': 4, 'n_estimators': 150, 'subsample': 0.8}\n",
      "0.703551 (0.152814) with: {'max_depth': 4, 'n_estimators': 150, 'subsample': 0.6}\n"
     ]
    }
   ],
   "source": [
    "# GridsearchCV\n",
    "from sklearn.model_selection import GridSearchCV\n",
    "\n",
    "n_estimators = [50, 100, 150]\n",
    "subsample = [1.0, 0.8, 0.6]\n",
    "max_depth = [2, 3, 4]\n",
    "param_grid = dict(n_estimators=n_estimators, subsample=subsample, max_depth=max_depth)\n",
    "\n",
    "\n",
    "model = GradientBoostingClassifier()\n",
    "\n",
    "kfold = KFold(n_splits=5, random_state=7)\n",
    "grid = GridSearchCV(estimator=model, param_grid=param_grid, scoring='f1_weighted', cv=kfold)\n",
    "grid_result = grid.fit(X, Y)\n",
    "\n",
    "print(\"Best: %f using %s\" % (grid_result.best_score_, grid_result.best_params_))\n",
    "means = grid_result.cv_results_['mean_test_score']\n",
    "stds = grid_result.cv_results_['std_test_score']\n",
    "params = grid_result.cv_results_['params']\n",
    "for mean, stdev, param in zip(means, stds, params):\n",
    "    print(\"%f (%f) with: %r\" % (mean, stdev, param))"
   ]
  },
  {
   "cell_type": "code",
   "execution_count": 47,
   "metadata": {},
   "outputs": [
    {
     "name": "stdout",
     "output_type": "stream",
     "text": [
      "              precision    recall  f1-score   support\n",
      "\n",
      "         0.0       0.86      0.79      0.82        56\n",
      "         1.0       0.29      0.42      0.34        12\n",
      "\n",
      "   micro avg       0.72      0.72      0.72        68\n",
      "   macro avg       0.58      0.60      0.58        68\n",
      "weighted avg       0.76      0.72      0.74        68\n",
      "\n"
     ]
    }
   ],
   "source": [
    "# Cross Validation Classification Report\n",
    "from sklearn.model_selection import train_test_split\n",
    "from sklearn.discriminant_analysis import LinearDiscriminantAnalysis\n",
    "from sklearn.metrics import classification_report\n",
    "X = df_new.drop('Churn', axis=1)\n",
    "Y = df_new['Churn']\n",
    "test_size = 0.3\n",
    "seed = 7\n",
    "X_train, X_test, Y_train, Y_test = train_test_split(X, Y, test_size=test_size, random_state=seed)\n",
    "model = LinearDiscriminantAnalysis()\n",
    "model.fit(X_train, Y_train)\n",
    "predicted = model.predict(X_test)\n",
    "report = classification_report(Y_test, predicted)\n",
    "print(report)"
   ]
  },
  {
   "cell_type": "code",
   "execution_count": null,
   "metadata": {},
   "outputs": [],
   "source": []
  },
  {
   "cell_type": "code",
   "execution_count": null,
   "metadata": {},
   "outputs": [],
   "source": []
  }
 ],
 "metadata": {
  "kernelspec": {
   "display_name": "Python 3",
   "language": "python",
   "name": "python3"
  },
  "language_info": {
   "codemirror_mode": {
    "name": "ipython",
    "version": 3
   },
   "file_extension": ".py",
   "mimetype": "text/x-python",
   "name": "python",
   "nbconvert_exporter": "python",
   "pygments_lexer": "ipython3",
   "version": "3.7.2rc1"
  }
 },
 "nbformat": 4,
 "nbformat_minor": 2
}
